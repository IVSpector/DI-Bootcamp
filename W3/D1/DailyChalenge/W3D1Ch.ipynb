{
 "cells": [
  {
   "cell_type": "code",
   "execution_count": 1,
   "metadata": {
    "collapsed": true,
    "ExecuteTime": {
     "end_time": "2025-05-25T15:48:15.238420600Z",
     "start_time": "2025-05-25T15:48:14.056484700Z"
    }
   },
   "outputs": [],
   "source": [
    "import pandas as pd\n",
    "bank_churn = pd.read_csv(\"Bank_churn.csv\")"
   ]
  },
  {
   "cell_type": "code",
   "execution_count": 2,
   "outputs": [
    {
     "data": {
      "text/plain": "    id  CustomerId                Surname  CreditScore   Age  Tenure  \\\n0  0.0  15674932.0   O,k{wudilic_-huk>wu_        668.0  33.0     3.0   \n1  1.0  15749177.0  O{kwudi\"li#%%'oli=-sa        627.0  33.0     1.0   \n2  2.0  15694510.0                  Hsueh        678.0  40.0    10.0   \n3  3.0  15741417.0            Kao,]?>?%]@        581.0  34.0     2.0   \n4  4.0  15766172.0          Ch-i]emen'-am        716.0  33.0     5.0   \n\n     Balance  NumOfProducts  HasCrCard  IsActiveMember EstimatedSalary  \\\n0       0.00            2.0        1.0             0.0       181449.97   \n1       0.00            2.0        1.0             1.0         49503.5   \n2       0.00            2.0        1.0             0.0       184866.69   \n3  148882.54            1.0        1.0             1.0        84560.88   \n4       0.00            2.0        1.0             1.0        15068.83   \n\n   Rating  Exited                        Geography:str,Gender:str  \n0      -3       0  {'Geography': 'Paris-France','Gender': 'Male'}  \n1       0       0  {'Geography': 'Paris-France','Gender': 'Male'}  \n2       1       0  {'Geography': 'Paris-France','Gender': 'Male'}  \n3      -4       0  {'Geography': 'Paris-France','Gender': 'Male'}  \n4      -1       0  {'Geography': 'Madrid-Spain','Gender': 'Male'}  ",
      "text/html": "<div>\n<style scoped>\n    .dataframe tbody tr th:only-of-type {\n        vertical-align: middle;\n    }\n\n    .dataframe tbody tr th {\n        vertical-align: top;\n    }\n\n    .dataframe thead th {\n        text-align: right;\n    }\n</style>\n<table border=\"1\" class=\"dataframe\">\n  <thead>\n    <tr style=\"text-align: right;\">\n      <th></th>\n      <th>id</th>\n      <th>CustomerId</th>\n      <th>Surname</th>\n      <th>CreditScore</th>\n      <th>Age</th>\n      <th>Tenure</th>\n      <th>Balance</th>\n      <th>NumOfProducts</th>\n      <th>HasCrCard</th>\n      <th>IsActiveMember</th>\n      <th>EstimatedSalary</th>\n      <th>Rating</th>\n      <th>Exited</th>\n      <th>Geography:str,Gender:str</th>\n    </tr>\n  </thead>\n  <tbody>\n    <tr>\n      <th>0</th>\n      <td>0.0</td>\n      <td>15674932.0</td>\n      <td>O,k{wudilic_-huk&gt;wu_</td>\n      <td>668.0</td>\n      <td>33.0</td>\n      <td>3.0</td>\n      <td>0.00</td>\n      <td>2.0</td>\n      <td>1.0</td>\n      <td>0.0</td>\n      <td>181449.97</td>\n      <td>-3</td>\n      <td>0</td>\n      <td>{'Geography': 'Paris-France','Gender': 'Male'}</td>\n    </tr>\n    <tr>\n      <th>1</th>\n      <td>1.0</td>\n      <td>15749177.0</td>\n      <td>O{kwudi\"li#%%'oli=-sa</td>\n      <td>627.0</td>\n      <td>33.0</td>\n      <td>1.0</td>\n      <td>0.00</td>\n      <td>2.0</td>\n      <td>1.0</td>\n      <td>1.0</td>\n      <td>49503.5</td>\n      <td>0</td>\n      <td>0</td>\n      <td>{'Geography': 'Paris-France','Gender': 'Male'}</td>\n    </tr>\n    <tr>\n      <th>2</th>\n      <td>2.0</td>\n      <td>15694510.0</td>\n      <td>Hsueh</td>\n      <td>678.0</td>\n      <td>40.0</td>\n      <td>10.0</td>\n      <td>0.00</td>\n      <td>2.0</td>\n      <td>1.0</td>\n      <td>0.0</td>\n      <td>184866.69</td>\n      <td>1</td>\n      <td>0</td>\n      <td>{'Geography': 'Paris-France','Gender': 'Male'}</td>\n    </tr>\n    <tr>\n      <th>3</th>\n      <td>3.0</td>\n      <td>15741417.0</td>\n      <td>Kao,]?&gt;?%]@</td>\n      <td>581.0</td>\n      <td>34.0</td>\n      <td>2.0</td>\n      <td>148882.54</td>\n      <td>1.0</td>\n      <td>1.0</td>\n      <td>1.0</td>\n      <td>84560.88</td>\n      <td>-4</td>\n      <td>0</td>\n      <td>{'Geography': 'Paris-France','Gender': 'Male'}</td>\n    </tr>\n    <tr>\n      <th>4</th>\n      <td>4.0</td>\n      <td>15766172.0</td>\n      <td>Ch-i]emen'-am</td>\n      <td>716.0</td>\n      <td>33.0</td>\n      <td>5.0</td>\n      <td>0.00</td>\n      <td>2.0</td>\n      <td>1.0</td>\n      <td>1.0</td>\n      <td>15068.83</td>\n      <td>-1</td>\n      <td>0</td>\n      <td>{'Geography': 'Madrid-Spain','Gender': 'Male'}</td>\n    </tr>\n  </tbody>\n</table>\n</div>"
     },
     "execution_count": 2,
     "metadata": {},
     "output_type": "execute_result"
    }
   ],
   "source": [
    "bank_churn.head(5)"
   ],
   "metadata": {
    "collapsed": false,
    "ExecuteTime": {
     "end_time": "2025-05-25T15:48:51.835300400Z",
     "start_time": "2025-05-25T15:48:51.816486700Z"
    }
   }
  },
  {
   "cell_type": "code",
   "execution_count": 5,
   "outputs": [
    {
     "data": {
      "text/plain": "Index(['id', 'CustomerId', 'Surname', 'CreditScore', 'Age', 'Tenure',\n       'Balance', 'NumOfProducts', 'HasCrCard', 'IsActiveMember',\n       'EstimatedSalary', 'Rating', 'Exited', 'Geography:str,Gender:str'],\n      dtype='object')"
     },
     "execution_count": 5,
     "metadata": {},
     "output_type": "execute_result"
    }
   ],
   "source": [
    "bank_churn.columns"
   ],
   "metadata": {
    "collapsed": false,
    "ExecuteTime": {
     "end_time": "2025-05-25T17:56:36.795980800Z",
     "start_time": "2025-05-25T17:56:36.742998Z"
    }
   }
  },
  {
   "cell_type": "code",
   "execution_count": 41,
   "outputs": [],
   "source": [
    "discover_column = bank_churn[[\"CreditScore\", \"Age\", \"Tenure\", \"Balance\", \"NumOfProducts\", \"HasCrCard\", \"IsActiveMember\", \"EstimatedSalary\"]]"
   ],
   "metadata": {
    "collapsed": false,
    "ExecuteTime": {
     "end_time": "2025-05-26T04:58:36.271338400Z",
     "start_time": "2025-05-26T04:58:36.233122Z"
    }
   }
  },
  {
   "cell_type": "code",
   "execution_count": 42,
   "outputs": [
    {
     "data": {
      "text/plain": "         CreditScore         Tenure        Balance  NumOfProducts  \\\ncount  164664.000000  160327.000000  160993.000000  159513.000000   \nmean      656.464710       5.022304   55497.937398       1.554745   \nstd        80.103353       2.806686   62808.409912       0.547085   \nmin       350.000000       0.000000       0.000000       1.000000   \n25%       597.000000       3.000000       0.000000       1.000000   \n50%       659.000000       5.000000       0.000000       2.000000   \n75%       710.000000       7.000000  119960.290000       2.000000   \nmax       850.000000      10.000000  250898.090000       4.000000   \n\n           HasCrCard  IsActiveMember  \ncount  162191.000000   161509.000000  \nmean        0.753944        0.497675  \nstd         0.430713        0.499996  \nmin         0.000000        0.000000  \n25%         1.000000        0.000000  \n50%         1.000000        0.000000  \n75%         1.000000        1.000000  \nmax         1.000000        1.000000  ",
      "text/html": "<div>\n<style scoped>\n    .dataframe tbody tr th:only-of-type {\n        vertical-align: middle;\n    }\n\n    .dataframe tbody tr th {\n        vertical-align: top;\n    }\n\n    .dataframe thead th {\n        text-align: right;\n    }\n</style>\n<table border=\"1\" class=\"dataframe\">\n  <thead>\n    <tr style=\"text-align: right;\">\n      <th></th>\n      <th>CreditScore</th>\n      <th>Tenure</th>\n      <th>Balance</th>\n      <th>NumOfProducts</th>\n      <th>HasCrCard</th>\n      <th>IsActiveMember</th>\n    </tr>\n  </thead>\n  <tbody>\n    <tr>\n      <th>count</th>\n      <td>164664.000000</td>\n      <td>160327.000000</td>\n      <td>160993.000000</td>\n      <td>159513.000000</td>\n      <td>162191.000000</td>\n      <td>161509.000000</td>\n    </tr>\n    <tr>\n      <th>mean</th>\n      <td>656.464710</td>\n      <td>5.022304</td>\n      <td>55497.937398</td>\n      <td>1.554745</td>\n      <td>0.753944</td>\n      <td>0.497675</td>\n    </tr>\n    <tr>\n      <th>std</th>\n      <td>80.103353</td>\n      <td>2.806686</td>\n      <td>62808.409912</td>\n      <td>0.547085</td>\n      <td>0.430713</td>\n      <td>0.499996</td>\n    </tr>\n    <tr>\n      <th>min</th>\n      <td>350.000000</td>\n      <td>0.000000</td>\n      <td>0.000000</td>\n      <td>1.000000</td>\n      <td>0.000000</td>\n      <td>0.000000</td>\n    </tr>\n    <tr>\n      <th>25%</th>\n      <td>597.000000</td>\n      <td>3.000000</td>\n      <td>0.000000</td>\n      <td>1.000000</td>\n      <td>1.000000</td>\n      <td>0.000000</td>\n    </tr>\n    <tr>\n      <th>50%</th>\n      <td>659.000000</td>\n      <td>5.000000</td>\n      <td>0.000000</td>\n      <td>2.000000</td>\n      <td>1.000000</td>\n      <td>0.000000</td>\n    </tr>\n    <tr>\n      <th>75%</th>\n      <td>710.000000</td>\n      <td>7.000000</td>\n      <td>119960.290000</td>\n      <td>2.000000</td>\n      <td>1.000000</td>\n      <td>1.000000</td>\n    </tr>\n    <tr>\n      <th>max</th>\n      <td>850.000000</td>\n      <td>10.000000</td>\n      <td>250898.090000</td>\n      <td>4.000000</td>\n      <td>1.000000</td>\n      <td>1.000000</td>\n    </tr>\n  </tbody>\n</table>\n</div>"
     },
     "execution_count": 42,
     "metadata": {},
     "output_type": "execute_result"
    }
   ],
   "source": [
    "discover_column.describe()"
   ],
   "metadata": {
    "collapsed": false,
    "ExecuteTime": {
     "end_time": "2025-05-26T04:58:39.128228700Z",
     "start_time": "2025-05-26T04:58:39.043368100Z"
    }
   }
  },
  {
   "cell_type": "code",
   "execution_count": 43,
   "outputs": [
    {
     "data": {
      "text/plain": "Age\n38.0              8897\n37.0              8872\n35.0              8755\n34.0              8270\n36.0              8239\n                  ... \n-41000.0             1\n60.0 years old       1\n-2300.0              1\n35.0 ans et          1\n29.0 years old       1\nName: count, Length: 500, dtype: int64"
     },
     "execution_count": 43,
     "metadata": {},
     "output_type": "execute_result"
    }
   ],
   "source": [
    "discover_column['Age'].value_counts()"
   ],
   "metadata": {
    "collapsed": false,
    "ExecuteTime": {
     "end_time": "2025-05-26T04:59:10.289146900Z",
     "start_time": "2025-05-26T04:59:10.271540300Z"
    }
   }
  },
  {
   "cell_type": "code",
   "execution_count": null,
   "outputs": [],
   "source": [
    "value_counts = discover_column['Age'].value_counts()\n",
    "value_to_remove = value_counts[value_counts <10].index\n",
    "discover_column['Age'] = discover_column['Age'].apply(lambda x: 0 if x in value_to_remove else x)\n",
    "discover_column['Age'] = discover_column['Age'].astype('float')\n",
    "discover_column.info()"
   ],
   "metadata": {
    "collapsed": false
   }
  },
  {
   "cell_type": "code",
   "execution_count": 55,
   "outputs": [
    {
     "data": {
      "text/plain": "         CreditScore            Age         Tenure        Balance  \\\ncount  164664.000000  159435.000000  160327.000000  160993.000000   \nmean      656.464710      37.878778       5.022304   55497.937398   \nstd        80.103353       9.333480       2.806686   62808.409912   \nmin       350.000000       0.000000       0.000000       0.000000   \n25%       597.000000      32.000000       3.000000       0.000000   \n50%       659.000000      37.000000       5.000000       0.000000   \n75%       710.000000      42.000000       7.000000  119960.290000   \nmax       850.000000      92.000000      10.000000  250898.090000   \n\n       NumOfProducts      HasCrCard  IsActiveMember  \ncount  159513.000000  162191.000000   161509.000000  \nmean        1.554745       0.753944        0.497675  \nstd         0.547085       0.430713        0.499996  \nmin         1.000000       0.000000        0.000000  \n25%         1.000000       1.000000        0.000000  \n50%         2.000000       1.000000        0.000000  \n75%         2.000000       1.000000        1.000000  \nmax         4.000000       1.000000        1.000000  ",
      "text/html": "<div>\n<style scoped>\n    .dataframe tbody tr th:only-of-type {\n        vertical-align: middle;\n    }\n\n    .dataframe tbody tr th {\n        vertical-align: top;\n    }\n\n    .dataframe thead th {\n        text-align: right;\n    }\n</style>\n<table border=\"1\" class=\"dataframe\">\n  <thead>\n    <tr style=\"text-align: right;\">\n      <th></th>\n      <th>CreditScore</th>\n      <th>Age</th>\n      <th>Tenure</th>\n      <th>Balance</th>\n      <th>NumOfProducts</th>\n      <th>HasCrCard</th>\n      <th>IsActiveMember</th>\n    </tr>\n  </thead>\n  <tbody>\n    <tr>\n      <th>count</th>\n      <td>164664.000000</td>\n      <td>159435.000000</td>\n      <td>160327.000000</td>\n      <td>160993.000000</td>\n      <td>159513.000000</td>\n      <td>162191.000000</td>\n      <td>161509.000000</td>\n    </tr>\n    <tr>\n      <th>mean</th>\n      <td>656.464710</td>\n      <td>37.878778</td>\n      <td>5.022304</td>\n      <td>55497.937398</td>\n      <td>1.554745</td>\n      <td>0.753944</td>\n      <td>0.497675</td>\n    </tr>\n    <tr>\n      <th>std</th>\n      <td>80.103353</td>\n      <td>9.333480</td>\n      <td>2.806686</td>\n      <td>62808.409912</td>\n      <td>0.547085</td>\n      <td>0.430713</td>\n      <td>0.499996</td>\n    </tr>\n    <tr>\n      <th>min</th>\n      <td>350.000000</td>\n      <td>0.000000</td>\n      <td>0.000000</td>\n      <td>0.000000</td>\n      <td>1.000000</td>\n      <td>0.000000</td>\n      <td>0.000000</td>\n    </tr>\n    <tr>\n      <th>25%</th>\n      <td>597.000000</td>\n      <td>32.000000</td>\n      <td>3.000000</td>\n      <td>0.000000</td>\n      <td>1.000000</td>\n      <td>1.000000</td>\n      <td>0.000000</td>\n    </tr>\n    <tr>\n      <th>50%</th>\n      <td>659.000000</td>\n      <td>37.000000</td>\n      <td>5.000000</td>\n      <td>0.000000</td>\n      <td>2.000000</td>\n      <td>1.000000</td>\n      <td>0.000000</td>\n    </tr>\n    <tr>\n      <th>75%</th>\n      <td>710.000000</td>\n      <td>42.000000</td>\n      <td>7.000000</td>\n      <td>119960.290000</td>\n      <td>2.000000</td>\n      <td>1.000000</td>\n      <td>1.000000</td>\n    </tr>\n    <tr>\n      <th>max</th>\n      <td>850.000000</td>\n      <td>92.000000</td>\n      <td>10.000000</td>\n      <td>250898.090000</td>\n      <td>4.000000</td>\n      <td>1.000000</td>\n      <td>1.000000</td>\n    </tr>\n  </tbody>\n</table>\n</div>"
     },
     "execution_count": 55,
     "metadata": {},
     "output_type": "execute_result"
    }
   ],
   "source": [
    "discover_column.describe()"
   ],
   "metadata": {
    "collapsed": false,
    "ExecuteTime": {
     "end_time": "2025-05-26T06:32:16.815073400Z",
     "start_time": "2025-05-26T06:32:16.709547200Z"
    }
   }
  },
  {
   "cell_type": "code",
   "execution_count": 56,
   "outputs": [
    {
     "data": {
      "text/plain": "np.float64(0.0027677672225911642)"
     },
     "execution_count": 56,
     "metadata": {},
     "output_type": "execute_result"
    }
   ],
   "source": [
    "discover_column['Age'].corr(discover_column['IsActiveMember'])"
   ],
   "metadata": {
    "collapsed": false,
    "ExecuteTime": {
     "end_time": "2025-05-26T06:33:10.138994300Z",
     "start_time": "2025-05-26T06:33:10.102576900Z"
    }
   }
  },
  {
   "cell_type": "code",
   "execution_count": 62,
   "outputs": [
    {
     "data": {
      "text/plain": "<Axes: >"
     },
     "execution_count": 62,
     "metadata": {},
     "output_type": "execute_result"
    },
    {
     "data": {
      "text/plain": "<Figure size 640x480 with 2 Axes>",
      "image/png": "[encoded data removed]"
     },
     "metadata": {},
     "output_type": "display_data"
    }
   ],
   "source": [
    "import seaborn as sns\n",
    "sns.heatmap(discover_column.corr())\n"
   ],
   "metadata": {
    "collapsed": false,
    "ExecuteTime": {
     "end_time": "2025-05-26T15:06:55.658472400Z",
     "start_time": "2025-05-26T15:06:52.951182800Z"
    }
   }
  },
  {
   "cell_type": "code",
   "execution_count": 63,
   "outputs": [
    {
     "data": {
      "text/plain": "                CreditScore       Age    Tenure   Balance  NumOfProducts  \\\nCreditScore        1.000000 -0.008039  0.001450  0.006658       0.011390   \nAge               -0.008039  1.000000 -0.008901  0.061611      -0.096414   \nTenure             0.001450 -0.008901  1.000000 -0.009579       0.006627   \nBalance            0.006658  0.061611 -0.009579  1.000000      -0.361201   \nNumOfProducts      0.011390 -0.096414  0.006627 -0.361201       1.000000   \nHasCrCard         -0.002631 -0.011685  0.005581 -0.018918       0.006687   \nIsActiveMember     0.015125  0.002768 -0.004524 -0.015732       0.039601   \n\n                HasCrCard  IsActiveMember  \nCreditScore     -0.002631        0.015125  \nAge             -0.011685        0.002768  \nTenure           0.005581       -0.004524  \nBalance         -0.018918       -0.015732  \nNumOfProducts    0.006687        0.039601  \nHasCrCard        1.000000       -0.020943  \nIsActiveMember  -0.020943        1.000000  ",
      "text/html": "<div>\n<style scoped>\n    .dataframe tbody tr th:only-of-type {\n        vertical-align: middle;\n    }\n\n    .dataframe tbody tr th {\n        vertical-align: top;\n    }\n\n    .dataframe thead th {\n        text-align: right;\n    }\n</style>\n<table border=\"1\" class=\"dataframe\">\n  <thead>\n    <tr style=\"text-align: right;\">\n      <th></th>\n      <th>CreditScore</th>\n      <th>Age</th>\n      <th>Tenure</th>\n      <th>Balance</th>\n      <th>NumOfProducts</th>\n      <th>HasCrCard</th>\n      <th>IsActiveMember</th>\n    </tr>\n  </thead>\n  <tbody>\n    <tr>\n      <th>CreditScore</th>\n      <td>1.000000</td>\n      <td>-0.008039</td>\n      <td>0.001450</td>\n      <td>0.006658</td>\n      <td>0.011390</td>\n      <td>-0.002631</td>\n      <td>0.015125</td>\n    </tr>\n    <tr>\n      <th>Age</th>\n      <td>-0.008039</td>\n      <td>1.000000</td>\n      <td>-0.008901</td>\n      <td>0.061611</td>\n      <td>-0.096414</td>\n      <td>-0.011685</td>\n      <td>0.002768</td>\n    </tr>\n    <tr>\n      <th>Tenure</th>\n      <td>0.001450</td>\n      <td>-0.008901</td>\n      <td>1.000000</td>\n      <td>-0.009579</td>\n      <td>0.006627</td>\n      <td>0.005581</td>\n      <td>-0.004524</td>\n    </tr>\n    <tr>\n      <th>Balance</th>\n      <td>0.006658</td>\n      <td>0.061611</td>\n      <td>-0.009579</td>\n      <td>1.000000</td>\n      <td>-0.361201</td>\n      <td>-0.018918</td>\n      <td>-0.015732</td>\n    </tr>\n    <tr>\n      <th>NumOfProducts</th>\n      <td>0.011390</td>\n      <td>-0.096414</td>\n      <td>0.006627</td>\n      <td>-0.361201</td>\n      <td>1.000000</td>\n      <td>0.006687</td>\n      <td>0.039601</td>\n    </tr>\n    <tr>\n      <th>HasCrCard</th>\n      <td>-0.002631</td>\n      <td>-0.011685</td>\n      <td>0.005581</td>\n      <td>-0.018918</td>\n      <td>0.006687</td>\n      <td>1.000000</td>\n      <td>-0.020943</td>\n    </tr>\n    <tr>\n      <th>IsActiveMember</th>\n      <td>0.015125</td>\n      <td>0.002768</td>\n      <td>-0.004524</td>\n      <td>-0.015732</td>\n      <td>0.039601</td>\n      <td>-0.020943</td>\n      <td>1.000000</td>\n    </tr>\n  </tbody>\n</table>\n</div>"
     },
     "execution_count": 63,
     "metadata": {},
     "output_type": "execute_result"
    }
   ],
   "source": [
    "discover_column.corr()"
   ],
   "metadata": {
    "collapsed": false,
    "ExecuteTime": {
     "end_time": "2025-05-26T15:07:47.267029600Z",
     "start_time": "2025-05-26T15:07:47.231280300Z"
    }
   }
  },
  {
   "cell_type": "code",
   "execution_count": 60,
   "outputs": [
    {
     "name": "stdout",
     "output_type": "stream",
     "text": [
      "<class 'pandas.core.frame.DataFrame'>\n",
      "RangeIndex: 165034 entries, 0 to 165033\n",
      "Data columns (total 7 columns):\n",
      " #   Column          Non-Null Count   Dtype  \n",
      "---  ------          --------------   -----  \n",
      " 0   CreditScore     164664 non-null  float64\n",
      " 1   Age             159435 non-null  float64\n",
      " 2   Tenure          160327 non-null  float64\n",
      " 3   Balance         160993 non-null  float64\n",
      " 4   NumOfProducts   159513 non-null  float64\n",
      " 5   HasCrCard       162191 non-null  float64\n",
      " 6   IsActiveMember  161509 non-null  float64\n",
      "dtypes: float64(7)\n",
      "memory usage: 8.8 MB\n"
     ]
    }
   ],
   "source": [
    "discover_column.info()"
   ],
   "metadata": {
    "collapsed": false,
    "ExecuteTime": {
     "end_time": "2025-05-26T15:01:57.246569200Z",
     "start_time": "2025-05-26T15:01:57.232834600Z"
    }
   }
  },
  {
   "cell_type": "code",
   "execution_count": 59,
   "outputs": [],
   "source": [
    "discover_column = discover_column.drop('EstimatedSalary', axis=1)"
   ],
   "metadata": {
    "collapsed": false,
    "ExecuteTime": {
     "end_time": "2025-05-26T15:01:53.535069800Z",
     "start_time": "2025-05-26T15:01:53.526601Z"
    }
   }
  },
  {
   "cell_type": "code",
   "execution_count": null,
   "outputs": [],
   "source": [],
   "metadata": {
    "collapsed": false
   }
  }
 ],
 "metadata": {
  "kernelspec": {
   "display_name": "Python 3",
   "language": "python",
   "name": "python3"
  },
  "language_info": {
   "codemirror_mode": {
    "name": "ipython",
    "version": 2
   },
   "file_extension": ".py",
   "mimetype": "text/x-python",
   "name": "python",
   "nbconvert_exporter": "python",
   "pygments_lexer": "ipython2",
   "version": "2.7.6"
  }
 },
 "nbformat": 4,
 "nbformat_minor": 0
}

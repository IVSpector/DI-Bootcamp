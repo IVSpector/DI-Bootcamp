{
 "cells": [
  {
   "cell_type": "code",
   "execution_count": 2,
   "metadata": {
    "collapsed": true,
    "ExecuteTime": {
     "end_time": "2025-05-25T10:35:56.762621900Z",
     "start_time": "2025-05-25T10:35:56.753108Z"
    }
   },
   "outputs": [
    {
     "name": "stdout",
     "output_type": "stream",
     "text": [
      "    Name  Age      City\n",
      "0   John   28  New York\n",
      "1   Anna   34     Paris\n",
      "2  Peter   29    Berlin\n",
      "3  Linda   32    London\n"
     ]
    }
   ],
   "source": [
    "import pandas as pd\n",
    "data = {\n",
    "    'Name': ['John', 'Anna', 'Peter', 'Linda'],\n",
    "    'Age': [28, 34, 29, 32],\n",
    "    'City': ['New York', 'Paris', 'Berlin', 'London']\n",
    "}\n",
    "\n",
    "df = pd.DataFrame(data)\n",
    "print(df)"
   ]
  },
  {
   "cell_type": "code",
   "execution_count": 3,
   "outputs": [
    {
     "name": "stdout",
     "output_type": "stream",
     "text": [
      "    Name  Age      City\n",
      "0   John   28  New York\n",
      "1   Anna   34     Paris\n",
      "2  Peter   29    Berlin\n",
      "3  Linda   32    London\n"
     ]
    }
   ],
   "source": [
    "print(df)"
   ],
   "metadata": {
    "collapsed": false,
    "ExecuteTime": {
     "end_time": "2025-05-25T10:41:05.248533100Z",
     "start_time": "2025-05-25T10:41:05.242022800Z"
    }
   }
  },
  {
   "cell_type": "code",
   "execution_count": 7,
   "outputs": [
    {
     "name": "stdout",
     "output_type": "stream",
     "text": [
      "     Gender    Age    Debt  Married  BankCustomer         Industry Ethnicity  \\\n",
      "0         1  30.83   0.000        1             1      Industrials     White   \n",
      "1         0  58.67   4.460        1             1        Materials     Black   \n",
      "2         0  24.50   0.500        1             1        Materials     Black   \n",
      "3         1  27.83   1.540        1             1      Industrials     White   \n",
      "4         1  20.17   5.625        1             1      Industrials     White   \n",
      "..      ...    ...     ...      ...           ...              ...       ...   \n",
      "685       1  21.08  10.085        0             0        Education     Black   \n",
      "686       0  22.67   0.750        1             1           Energy     White   \n",
      "687       0  25.25  13.500        0             0       Healthcare    Latino   \n",
      "688       1  17.92   0.205        1             1  ConsumerStaples     White   \n",
      "689       1  35.00   3.375        1             1           Energy     Black   \n",
      "\n",
      "     YearsEmployed  PriorDefault  Employed  CreditScore  DriversLicense  \\\n",
      "0             1.25             1         1            1               0   \n",
      "1             3.04             1         1            6               0   \n",
      "2             1.50             1         0            0               0   \n",
      "3             3.75             1         1            5               1   \n",
      "4             1.71             1         0            0               0   \n",
      "..             ...           ...       ...          ...             ...   \n",
      "685           1.25             0         0            0               0   \n",
      "686           2.00             0         1            2               1   \n",
      "687           2.00             0         1            1               1   \n",
      "688           0.04             0         0            0               0   \n",
      "689           8.29             0         0            0               1   \n",
      "\n",
      "          Citizen  ZipCode  Income  Approved  \n",
      "0         ByBirth      202       0         1  \n",
      "1         ByBirth       43     560         1  \n",
      "2         ByBirth      280     824         1  \n",
      "3         ByBirth      100       3         1  \n",
      "4    ByOtherMeans      120       0         1  \n",
      "..            ...      ...     ...       ...  \n",
      "685       ByBirth      260       0         0  \n",
      "686       ByBirth      200     394         0  \n",
      "687       ByBirth      200       1         0  \n",
      "688       ByBirth      280     750         0  \n",
      "689       ByBirth        0       0         0  \n",
      "\n",
      "[690 rows x 16 columns]\n"
     ]
    }
   ],
   "source": [
    "import pandas\n",
    "df = pd.read_csv(\"ExerciseXP\\Credit Card Approvals (Clean Data)\\Credit Card Approvals (Clean Data)\\clean_dataset.csv\")\n",
    "print(df)"
   ],
   "metadata": {
    "collapsed": false,
    "ExecuteTime": {
     "end_time": "2025-05-25T10:59:33.929258500Z",
     "start_time": "2025-05-25T10:59:33.911342100Z"
    }
   }
  },
  {
   "cell_type": "code",
   "execution_count": 8,
   "outputs": [
    {
     "data": {
      "text/plain": "   Gender    Age   Debt  Married  BankCustomer     Industry Ethnicity  \\\n0       1  30.83  0.000        1             1  Industrials     White   \n1       0  58.67  4.460        1             1    Materials     Black   \n2       0  24.50  0.500        1             1    Materials     Black   \n3       1  27.83  1.540        1             1  Industrials     White   \n4       1  20.17  5.625        1             1  Industrials     White   \n\n   YearsEmployed  PriorDefault  Employed  CreditScore  DriversLicense  \\\n0           1.25             1         1            1               0   \n1           3.04             1         1            6               0   \n2           1.50             1         0            0               0   \n3           3.75             1         1            5               1   \n4           1.71             1         0            0               0   \n\n        Citizen  ZipCode  Income  Approved  \n0       ByBirth      202       0         1  \n1       ByBirth       43     560         1  \n2       ByBirth      280     824         1  \n3       ByBirth      100       3         1  \n4  ByOtherMeans      120       0         1  ",
      "text/html": "<div>\n<style scoped>\n    .dataframe tbody tr th:only-of-type {\n        vertical-align: middle;\n    }\n\n    .dataframe tbody tr th {\n        vertical-align: top;\n    }\n\n    .dataframe thead th {\n        text-align: right;\n    }\n</style>\n<table border=\"1\" class=\"dataframe\">\n  <thead>\n    <tr style=\"text-align: right;\">\n      <th></th>\n      <th>Gender</th>\n      <th>Age</th>\n      <th>Debt</th>\n      <th>Married</th>\n      <th>BankCustomer</th>\n      <th>Industry</th>\n      <th>Ethnicity</th>\n      <th>YearsEmployed</th>\n      <th>PriorDefault</th>\n      <th>Employed</th>\n      <th>CreditScore</th>\n      <th>DriversLicense</th>\n      <th>Citizen</th>\n      <th>ZipCode</th>\n      <th>Income</th>\n      <th>Approved</th>\n    </tr>\n  </thead>\n  <tbody>\n    <tr>\n      <th>0</th>\n      <td>1</td>\n      <td>30.83</td>\n      <td>0.000</td>\n      <td>1</td>\n      <td>1</td>\n      <td>Industrials</td>\n      <td>White</td>\n      <td>1.25</td>\n      <td>1</td>\n      <td>1</td>\n      <td>1</td>\n      <td>0</td>\n      <td>ByBirth</td>\n      <td>202</td>\n      <td>0</td>\n      <td>1</td>\n    </tr>\n    <tr>\n      <th>1</th>\n      <td>0</td>\n      <td>58.67</td>\n      <td>4.460</td>\n      <td>1</td>\n      <td>1</td>\n      <td>Materials</td>\n      <td>Black</td>\n      <td>3.04</td>\n      <td>1</td>\n      <td>1</td>\n      <td>6</td>\n      <td>0</td>\n      <td>ByBirth</td>\n      <td>43</td>\n      <td>560</td>\n      <td>1</td>\n    </tr>\n    <tr>\n      <th>2</th>\n      <td>0</td>\n      <td>24.50</td>\n      <td>0.500</td>\n      <td>1</td>\n      <td>1</td>\n      <td>Materials</td>\n      <td>Black</td>\n      <td>1.50</td>\n      <td>1</td>\n      <td>0</td>\n      <td>0</td>\n      <td>0</td>\n      <td>ByBirth</td>\n      <td>280</td>\n      <td>824</td>\n      <td>1</td>\n    </tr>\n    <tr>\n      <th>3</th>\n      <td>1</td>\n      <td>27.83</td>\n      <td>1.540</td>\n      <td>1</td>\n      <td>1</td>\n      <td>Industrials</td>\n      <td>White</td>\n      <td>3.75</td>\n      <td>1</td>\n      <td>1</td>\n      <td>5</td>\n      <td>1</td>\n      <td>ByBirth</td>\n      <td>100</td>\n      <td>3</td>\n      <td>1</td>\n    </tr>\n    <tr>\n      <th>4</th>\n      <td>1</td>\n      <td>20.17</td>\n      <td>5.625</td>\n      <td>1</td>\n      <td>1</td>\n      <td>Industrials</td>\n      <td>White</td>\n      <td>1.71</td>\n      <td>1</td>\n      <td>0</td>\n      <td>0</td>\n      <td>0</td>\n      <td>ByOtherMeans</td>\n      <td>120</td>\n      <td>0</td>\n      <td>1</td>\n    </tr>\n  </tbody>\n</table>\n</div>"
     },
     "execution_count": 8,
     "metadata": {},
     "output_type": "execute_result"
    }
   ],
   "source": [
    "df.head(5)"
   ],
   "metadata": {
    "collapsed": false,
    "ExecuteTime": {
     "end_time": "2025-05-25T11:06:23.595175100Z",
     "start_time": "2025-05-25T11:06:23.565560600Z"
    }
   }
  },
  {
   "cell_type": "code",
   "execution_count": null,
   "outputs": [],
   "source": [],
   "metadata": {
    "collapsed": false
   }
  }
 ],
 "metadata": {
  "kernelspec": {
   "display_name": "Python 3",
   "language": "python",
   "name": "python3"
  },
  "language_info": {
   "codemirror_mode": {
    "name": "ipython",
    "version": 2
   },
   "file_extension": ".py",
   "mimetype": "text/x-python",
   "name": "python",
   "nbconvert_exporter": "python",
   "pygments_lexer": "ipython2",
   "version": "2.7.6"
  }
 },
 "nbformat": 4,
 "nbformat_minor": 0
}

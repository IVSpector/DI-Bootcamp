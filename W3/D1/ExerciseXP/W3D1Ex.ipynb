{
 "cells": [
  {
   "cell_type": "code",
   "execution_count": 8,
   "metadata": {
    "collapsed": true,
    "ExecuteTime": {
     "end_time": "2025-05-25T11:18:04.891844800Z",
     "start_time": "2025-05-25T11:18:04.788074Z"
    }
   },
   "outputs": [
    {
     "name": "stderr",
     "output_type": "stream",
     "text": [
      "C:\\Users\\avdiz\\AppData\\Local\\Temp\\ipykernel_2248\\4147603049.py:4: DtypeWarning: Columns (5,6) have mixed types. Specify dtype option on import or set low_memory=False.\n",
      "  df3 = pd.read_csv(\"Global Trends in Mental Health Disorder\\Global Trends in Mental Health Disorder\\Mental health Depression disorder Data.csv\")\n"
     ]
    },
    {
     "data": {
      "text/plain": "   Gender    Age  Debt  Married  BankCustomer     Industry Ethnicity  \\\n0       1  30.83  0.00        1             1  Industrials     White   \n1       0  58.67  4.46        1             1    Materials     Black   \n\n   YearsEmployed  PriorDefault  Employed  CreditScore  DriversLicense  \\\n0           1.25             1         1            1               0   \n1           3.04             1         1            6               0   \n\n   Citizen  ZipCode  Income  Approved  \n0  ByBirth      202       0         1  \n1  ByBirth       43     560         1  ",
      "text/html": "<div>\n<style scoped>\n    .dataframe tbody tr th:only-of-type {\n        vertical-align: middle;\n    }\n\n    .dataframe tbody tr th {\n        vertical-align: top;\n    }\n\n    .dataframe thead th {\n        text-align: right;\n    }\n</style>\n<table border=\"1\" class=\"dataframe\">\n  <thead>\n    <tr style=\"text-align: right;\">\n      <th></th>\n      <th>Gender</th>\n      <th>Age</th>\n      <th>Debt</th>\n      <th>Married</th>\n      <th>BankCustomer</th>\n      <th>Industry</th>\n      <th>Ethnicity</th>\n      <th>YearsEmployed</th>\n      <th>PriorDefault</th>\n      <th>Employed</th>\n      <th>CreditScore</th>\n      <th>DriversLicense</th>\n      <th>Citizen</th>\n      <th>ZipCode</th>\n      <th>Income</th>\n      <th>Approved</th>\n    </tr>\n  </thead>\n  <tbody>\n    <tr>\n      <th>0</th>\n      <td>1</td>\n      <td>30.83</td>\n      <td>0.00</td>\n      <td>1</td>\n      <td>1</td>\n      <td>Industrials</td>\n      <td>White</td>\n      <td>1.25</td>\n      <td>1</td>\n      <td>1</td>\n      <td>1</td>\n      <td>0</td>\n      <td>ByBirth</td>\n      <td>202</td>\n      <td>0</td>\n      <td>1</td>\n    </tr>\n    <tr>\n      <th>1</th>\n      <td>0</td>\n      <td>58.67</td>\n      <td>4.46</td>\n      <td>1</td>\n      <td>1</td>\n      <td>Materials</td>\n      <td>Black</td>\n      <td>3.04</td>\n      <td>1</td>\n      <td>1</td>\n      <td>6</td>\n      <td>0</td>\n      <td>ByBirth</td>\n      <td>43</td>\n      <td>560</td>\n      <td>1</td>\n    </tr>\n  </tbody>\n</table>\n</div>"
     },
     "execution_count": 8,
     "metadata": {},
     "output_type": "execute_result"
    }
   ],
   "source": [
    "import pandas as pd\n",
    "df1 = pd.read_csv(\"Credit Card Approvals (Clean Data)\\Credit Card Approvals (Clean Data)\\clean_dataset.csv\")\n",
    "df2 = pd.read_csv(\"Credit Card Approvals (Clean Data)\\Credit Card Approvals (Clean Data)\\crx.csv\")\n",
    "df3 = pd.read_csv(\"Global Trends in Mental Health Disorder\\Global Trends in Mental Health Disorder\\Mental health Depression disorder Data.csv\")\n",
    "df4 = pd.read_csv(\"How Much Sleep Do Americans\\How Much Sleep Do Americans\\Time Americans Spend Sleeping.csv\")\n",
    "df1.head(2)\n",
    "df1.info()\n",
    "df2.head(2)\n",
    "df2.info()\n",
    "df3.head(2)\n",
    "df3.info()\n",
    "df4.head(2)\n",
    "df4.info()\n",
    "qualitative_columns_df1 = df1.select_dtypes(include=['object']).columns\n",
    "quantitative_columns_df1 = df1.select_dtypes(include=['float64', 'int64']).columns\n",
    "qualitative_columns_df2 = df2.select_dtypes(include=['object']).columns\n",
    "quantitative_columns_df2 = df2.select_dtypes(include=['float64', 'int64']).columns\n",
    "qualitative_columns_df3 = df3.select_dtypes(include=['object']).columns\n",
    "quantitative_columns_df3 = df3.select_dtypes(include=['float64', 'int64']).columns\n",
    "qualitative_columns_df4 = df4.select_dtypes(include=['object']).columns\n",
    "quantitative_columns_df4 = df4.select_dtypes(include=['float64', 'int64']).columns"
   ]
  },
  {
   "cell_type": "code",
   "execution_count": 9,
   "outputs": [
    {
     "data": {
      "text/plain": "   index  Year  Period  Avg hrs per day sleeping  Standard Error Type of Days  \\\n0      0  2003  Annual                      8.57           0.018     All days   \n1      1  2004  Annual                      8.55           0.026     All days   \n\n           Age Group  Activity   Sex  \n0  15 years and over  Sleeping  Both  \n1  15 years and over  Sleeping  Both  ",
      "text/html": "<div>\n<style scoped>\n    .dataframe tbody tr th:only-of-type {\n        vertical-align: middle;\n    }\n\n    .dataframe tbody tr th {\n        vertical-align: top;\n    }\n\n    .dataframe thead th {\n        text-align: right;\n    }\n</style>\n<table border=\"1\" class=\"dataframe\">\n  <thead>\n    <tr style=\"text-align: right;\">\n      <th></th>\n      <th>index</th>\n      <th>Year</th>\n      <th>Period</th>\n      <th>Avg hrs per day sleeping</th>\n      <th>Standard Error</th>\n      <th>Type of Days</th>\n      <th>Age Group</th>\n      <th>Activity</th>\n      <th>Sex</th>\n    </tr>\n  </thead>\n  <tbody>\n    <tr>\n      <th>0</th>\n      <td>0</td>\n      <td>2003</td>\n      <td>Annual</td>\n      <td>8.57</td>\n      <td>0.018</td>\n      <td>All days</td>\n      <td>15 years and over</td>\n      <td>Sleeping</td>\n      <td>Both</td>\n    </tr>\n    <tr>\n      <th>1</th>\n      <td>1</td>\n      <td>2004</td>\n      <td>Annual</td>\n      <td>8.55</td>\n      <td>0.026</td>\n      <td>All days</td>\n      <td>15 years and over</td>\n      <td>Sleeping</td>\n      <td>Both</td>\n    </tr>\n  </tbody>\n</table>\n</div>"
     },
     "execution_count": 9,
     "metadata": {},
     "output_type": "execute_result"
    }
   ],
   "source": [
    "df4.head(2)"
   ],
   "metadata": {
    "collapsed": false,
    "ExecuteTime": {
     "end_time": "2025-05-25T11:21:52.765916500Z",
     "start_time": "2025-05-25T11:21:52.752830700Z"
    }
   }
  },
  {
   "cell_type": "code",
   "execution_count": 41,
   "outputs": [
    {
     "data": {
      "text/plain": "Index(['Species'], dtype='object')"
     },
     "execution_count": 41,
     "metadata": {},
     "output_type": "execute_result"
    }
   ],
   "source": [
    "df5 = pd.read_csv(\"Iris.csv\")\n",
    "# df5.head(5)\n",
    "qualitative_columns_df5 = df5.select_dtypes(include=\"object\").columns\n",
    "# quantitative_columns_df5 = df5.select_dtypes(include=['float64', 'int64']).columns\n",
    "# Non-numerical data that can be observed but not measured\n",
    "qualitative_columns_df5\n",
    "# Numerical data that can be measured and quantified.\n",
    "# quantitative_columns_df5"
   ],
   "metadata": {
    "collapsed": false,
    "ExecuteTime": {
     "end_time": "2025-05-25T13:39:21.708508500Z",
     "start_time": "2025-05-25T13:39:21.699995900Z"
    }
   }
  },
  {
   "cell_type": "code",
   "execution_count": 36,
   "outputs": [
    {
     "name": "stdout",
     "output_type": "stream",
     "text": [
      "Id\n",
      "75.5\n",
      "75.5\n",
      "\n",
      "SepalLengthCm\n",
      "5.843333333333334\n",
      "5.8\n",
      "\n",
      "SepalWidthCm\n",
      "3.0540000000000003\n",
      "3.0\n",
      "\n",
      "PetalLengthCm\n",
      "3.758666666666666\n",
      "4.35\n",
      "\n",
      "PetalWidthCm\n",
      "1.1986666666666668\n",
      "1.3\n",
      "\n"
     ]
    }
   ],
   "source": [
    "for colum in df5.select_dtypes(include=['float64', 'int64']).columns:\n",
    "  if colum:\n",
    "    print(colum)\n",
    "    print(df5[colum].mean())\n",
    "    print(df5[colum].median())\n",
    "    print()"
   ],
   "metadata": {
    "collapsed": false,
    "ExecuteTime": {
     "end_time": "2025-05-25T13:25:37.800472200Z",
     "start_time": "2025-05-25T13:25:37.789309Z"
    }
   }
  },
  {
   "cell_type": "code",
   "execution_count": 50,
   "outputs": [
    {
     "data": {
      "text/plain": "<Figure size 640x480 with 1 Axes>",
      "image/png": "[encoded data removed]"
     },
     "metadata": {},
     "output_type": "display_data"
    }
   ],
   "source": [
    "import matplotlib.pyplot as plt\n",
    "plt.bar(df5['Species'], df5['SepalWidthCm'])\n",
    "plt.show()\n",
    "# We can see SepaWhidthCM for each Species in dataset"
   ],
   "metadata": {
    "collapsed": false,
    "ExecuteTime": {
     "end_time": "2025-05-25T13:46:52.068332100Z",
     "start_time": "2025-05-25T13:46:51.947075900Z"
    }
   }
  },
  {
   "cell_type": "code",
   "execution_count": 51,
   "outputs": [],
   "source": [
    "import pandas as pd\n",
    "AmericanSleep = pd.read_csv(\"Time Americans Spend Sleeping.csv\")"
   ],
   "metadata": {
    "collapsed": false,
    "ExecuteTime": {
     "end_time": "2025-05-25T13:51:15.554418100Z",
     "start_time": "2025-05-25T13:51:15.524430600Z"
    }
   }
  },
  {
   "cell_type": "code",
   "execution_count": 53,
   "outputs": [
    {
     "data": {
      "text/plain": "Index(['index', 'Year', 'Period', 'Avg hrs per day sleeping', 'Standard Error',\n       'Type of Days', 'Age Group', 'Activity', 'Sex'],\n      dtype='object')"
     },
     "execution_count": 53,
     "metadata": {},
     "output_type": "execute_result"
    }
   ],
   "source": [
    "AmericanSleep.columns"
   ],
   "metadata": {
    "collapsed": false,
    "ExecuteTime": {
     "end_time": "2025-05-25T13:53:12.490248500Z",
     "start_time": "2025-05-25T13:53:12.474116300Z"
    }
   }
  },
  {
   "cell_type": "code",
   "execution_count": 54,
   "outputs": [
    {
     "data": {
      "text/plain": "   index  Year  Period  Avg hrs per day sleeping  Standard Error Type of Days  \\\n0      0  2003  Annual                      8.57           0.018     All days   \n1      1  2004  Annual                      8.55           0.026     All days   \n2      2  2005  Annual                      8.62           0.023     All days   \n3      3  2006  Annual                      8.63           0.024     All days   \n4      4  2007  Annual                      8.57           0.024     All days   \n\n           Age Group  Activity   Sex  \n0  15 years and over  Sleeping  Both  \n1  15 years and over  Sleeping  Both  \n2  15 years and over  Sleeping  Both  \n3  15 years and over  Sleeping  Both  \n4  15 years and over  Sleeping  Both  ",
      "text/html": "<div>\n<style scoped>\n    .dataframe tbody tr th:only-of-type {\n        vertical-align: middle;\n    }\n\n    .dataframe tbody tr th {\n        vertical-align: top;\n    }\n\n    .dataframe thead th {\n        text-align: right;\n    }\n</style>\n<table border=\"1\" class=\"dataframe\">\n  <thead>\n    <tr style=\"text-align: right;\">\n      <th></th>\n      <th>index</th>\n      <th>Year</th>\n      <th>Period</th>\n      <th>Avg hrs per day sleeping</th>\n      <th>Standard Error</th>\n      <th>Type of Days</th>\n      <th>Age Group</th>\n      <th>Activity</th>\n      <th>Sex</th>\n    </tr>\n  </thead>\n  <tbody>\n    <tr>\n      <th>0</th>\n      <td>0</td>\n      <td>2003</td>\n      <td>Annual</td>\n      <td>8.57</td>\n      <td>0.018</td>\n      <td>All days</td>\n      <td>15 years and over</td>\n      <td>Sleeping</td>\n      <td>Both</td>\n    </tr>\n    <tr>\n      <th>1</th>\n      <td>1</td>\n      <td>2004</td>\n      <td>Annual</td>\n      <td>8.55</td>\n      <td>0.026</td>\n      <td>All days</td>\n      <td>15 years and over</td>\n      <td>Sleeping</td>\n      <td>Both</td>\n    </tr>\n    <tr>\n      <th>2</th>\n      <td>2</td>\n      <td>2005</td>\n      <td>Annual</td>\n      <td>8.62</td>\n      <td>0.023</td>\n      <td>All days</td>\n      <td>15 years and over</td>\n      <td>Sleeping</td>\n      <td>Both</td>\n    </tr>\n    <tr>\n      <th>3</th>\n      <td>3</td>\n      <td>2006</td>\n      <td>Annual</td>\n      <td>8.63</td>\n      <td>0.024</td>\n      <td>All days</td>\n      <td>15 years and over</td>\n      <td>Sleeping</td>\n      <td>Both</td>\n    </tr>\n    <tr>\n      <th>4</th>\n      <td>4</td>\n      <td>2007</td>\n      <td>Annual</td>\n      <td>8.57</td>\n      <td>0.024</td>\n      <td>All days</td>\n      <td>15 years and over</td>\n      <td>Sleeping</td>\n      <td>Both</td>\n    </tr>\n  </tbody>\n</table>\n</div>"
     },
     "execution_count": 54,
     "metadata": {},
     "output_type": "execute_result"
    }
   ],
   "source": [
    "AmericanSleep.head(5)"
   ],
   "metadata": {
    "collapsed": false,
    "ExecuteTime": {
     "end_time": "2025-05-25T14:30:12.351754Z",
     "start_time": "2025-05-25T14:30:12.348270600Z"
    }
   }
  },
  {
   "cell_type": "code",
   "execution_count": 55,
   "outputs": [
    {
     "data": {
      "text/plain": "      index  Avg hrs per day sleeping  Standard Error\nYear                                                 \n2003  465.0                  8.701905        0.063000\n2004  466.0                  8.677778        0.079873\n2005  467.0                  8.745556        0.082968\n2006  468.0                  8.757937        0.086571\n2007  469.0                  8.696667        0.089540\n2008  470.0                  8.731746        0.087508\n2009  471.0                  8.796190        0.083746\n2010  472.0                  8.795397        0.084270\n2011  473.0                  8.832857        0.088714\n2012  474.0                  8.849841        0.088651\n2013  475.0                  8.845397        0.089778\n2014  476.0                  8.902222        0.086667\n2015  477.0                  8.936984        0.097095\n2016  478.0                  8.914444        0.097270\n2017  479.0                  8.918095        0.098714",
      "text/html": "<div>\n<style scoped>\n    .dataframe tbody tr th:only-of-type {\n        vertical-align: middle;\n    }\n\n    .dataframe tbody tr th {\n        vertical-align: top;\n    }\n\n    .dataframe thead th {\n        text-align: right;\n    }\n</style>\n<table border=\"1\" class=\"dataframe\">\n  <thead>\n    <tr style=\"text-align: right;\">\n      <th></th>\n      <th>index</th>\n      <th>Avg hrs per day sleeping</th>\n      <th>Standard Error</th>\n    </tr>\n    <tr>\n      <th>Year</th>\n      <th></th>\n      <th></th>\n      <th></th>\n    </tr>\n  </thead>\n  <tbody>\n    <tr>\n      <th>2003</th>\n      <td>465.0</td>\n      <td>8.701905</td>\n      <td>0.063000</td>\n    </tr>\n    <tr>\n      <th>2004</th>\n      <td>466.0</td>\n      <td>8.677778</td>\n      <td>0.079873</td>\n    </tr>\n    <tr>\n      <th>2005</th>\n      <td>467.0</td>\n      <td>8.745556</td>\n      <td>0.082968</td>\n    </tr>\n    <tr>\n      <th>2006</th>\n      <td>468.0</td>\n      <td>8.757937</td>\n      <td>0.086571</td>\n    </tr>\n    <tr>\n      <th>2007</th>\n      <td>469.0</td>\n      <td>8.696667</td>\n      <td>0.089540</td>\n    </tr>\n    <tr>\n      <th>2008</th>\n      <td>470.0</td>\n      <td>8.731746</td>\n      <td>0.087508</td>\n    </tr>\n    <tr>\n      <th>2009</th>\n      <td>471.0</td>\n      <td>8.796190</td>\n      <td>0.083746</td>\n    </tr>\n    <tr>\n      <th>2010</th>\n      <td>472.0</td>\n      <td>8.795397</td>\n      <td>0.084270</td>\n    </tr>\n    <tr>\n      <th>2011</th>\n      <td>473.0</td>\n      <td>8.832857</td>\n      <td>0.088714</td>\n    </tr>\n    <tr>\n      <th>2012</th>\n      <td>474.0</td>\n      <td>8.849841</td>\n      <td>0.088651</td>\n    </tr>\n    <tr>\n      <th>2013</th>\n      <td>475.0</td>\n      <td>8.845397</td>\n      <td>0.089778</td>\n    </tr>\n    <tr>\n      <th>2014</th>\n      <td>476.0</td>\n      <td>8.902222</td>\n      <td>0.086667</td>\n    </tr>\n    <tr>\n      <th>2015</th>\n      <td>477.0</td>\n      <td>8.936984</td>\n      <td>0.097095</td>\n    </tr>\n    <tr>\n      <th>2016</th>\n      <td>478.0</td>\n      <td>8.914444</td>\n      <td>0.097270</td>\n    </tr>\n    <tr>\n      <th>2017</th>\n      <td>479.0</td>\n      <td>8.918095</td>\n      <td>0.098714</td>\n    </tr>\n  </tbody>\n</table>\n</div>"
     },
     "execution_count": 55,
     "metadata": {},
     "output_type": "execute_result"
    }
   ],
   "source": [
    "AmericanSleep.groupby([\"Year\"]).mean(\"Avg hrs per day sleeping\")"
   ],
   "metadata": {
    "collapsed": false,
    "ExecuteTime": {
     "end_time": "2025-05-25T14:43:37.052316600Z",
     "start_time": "2025-05-25T14:43:37.015310100Z"
    }
   }
  },
  {
   "cell_type": "code",
   "execution_count": 66,
   "outputs": [],
   "source": [
    "group_data = AmericanSleep.groupby('Year').mean(numeric_only=True).reset_index()"
   ],
   "metadata": {
    "collapsed": false,
    "ExecuteTime": {
     "end_time": "2025-05-25T14:58:19.112417100Z",
     "start_time": "2025-05-25T14:58:19.094335500Z"
    }
   }
  },
  {
   "cell_type": "code",
   "execution_count": 67,
   "outputs": [
    {
     "name": "stdout",
     "output_type": "stream",
     "text": [
      "    Year  index  Avg hrs per day sleeping  Standard Error\n",
      "0   2003  465.0                  8.701905        0.063000\n",
      "1   2004  466.0                  8.677778        0.079873\n",
      "2   2005  467.0                  8.745556        0.082968\n",
      "3   2006  468.0                  8.757937        0.086571\n",
      "4   2007  469.0                  8.696667        0.089540\n",
      "5   2008  470.0                  8.731746        0.087508\n",
      "6   2009  471.0                  8.796190        0.083746\n",
      "7   2010  472.0                  8.795397        0.084270\n",
      "8   2011  473.0                  8.832857        0.088714\n",
      "9   2012  474.0                  8.849841        0.088651\n",
      "10  2013  475.0                  8.845397        0.089778\n",
      "11  2014  476.0                  8.902222        0.086667\n",
      "12  2015  477.0                  8.936984        0.097095\n",
      "13  2016  478.0                  8.914444        0.097270\n",
      "14  2017  479.0                  8.918095        0.098714\n"
     ]
    }
   ],
   "source": [
    "print(group_data)"
   ],
   "metadata": {
    "collapsed": false,
    "ExecuteTime": {
     "end_time": "2025-05-25T14:58:25.153399900Z",
     "start_time": "2025-05-25T14:58:25.135302300Z"
    }
   }
  },
  {
   "cell_type": "code",
   "execution_count": 70,
   "outputs": [
    {
     "data": {
      "text/plain": "<Figure size 640x480 with 1 Axes>",
      "image/png": "[encoded data removed]"
     },
     "metadata": {},
     "output_type": "display_data"
    }
   ],
   "source": [
    "import matplotlib.pyplot as plt\n",
    "plt.plot(group_data['Year'], group_data['Avg hrs per day sleeping'])\n",
    "plt.show()"
   ],
   "metadata": {
    "collapsed": false,
    "ExecuteTime": {
     "end_time": "2025-05-25T15:01:33.169743200Z",
     "start_time": "2025-05-25T15:01:33.103989800Z"
    }
   }
  },
  {
   "cell_type": "code",
   "execution_count": 71,
   "outputs": [],
   "source": [
    "# in this case we see that average sleeping time increases from 2004 to 2016"
   ],
   "metadata": {
    "collapsed": false
   }
  }
 ],
 "metadata": {
  "kernelspec": {
   "display_name": "Python 3",
   "language": "python",
   "name": "python3"
  },
  "language_info": {
   "codemirror_mode": {
    "name": "ipython",
    "version": 2
   },
   "file_extension": ".py",
   "mimetype": "text/x-python",
   "name": "python",
   "nbconvert_exporter": "python",
   "pygments_lexer": "ipython2",
   "version": "2.7.6"
  }
 },
 "nbformat": 4,
 "nbformat_minor": 0
}

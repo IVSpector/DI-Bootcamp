{
 "cells": [
  {
   "cell_type": "code",
   "execution_count": null,
   "metadata": {
    "collapsed": true
   },
   "outputs": [],
   "source": [
    "from google.colab import files\n",
    "files.upload()\n",
    "\n",
    "!mkdir -p ~/.kaggle\n",
    "!cp kaggle.json ~/.kaggle/\n",
    "!chmod 600 ~/.kaggle/kaggle.json\n",
    "\n",
    "!kaggle datasets download -d olgabelitskaya/flower-color-images"
   ]
  },
  {
   "cell_type": "code",
   "execution_count": null,
   "outputs": [],
   "source": [
    "!unzip '/content/Flower Color Images Dataset.zip'"
   ],
   "metadata": {
    "collapsed": false
   }
  },
  {
   "cell_type": "code",
   "execution_count": null,
   "outputs": [],
   "source": [
    "!pip install tensorflow\n",
    "! pip install keras\n",
    "! pip install pillow"
   ],
   "metadata": {
    "collapsed": false
   }
  },
  {
   "cell_type": "code",
   "execution_count": null,
   "outputs": [],
   "source": [
    "import tensorflow as tf\n",
    "from tensorflow.keras.preprocessing.image import ImageDataGenerator\n",
    "import matplotlib.pyplot as plt\n",
    "from PIL import Image\n",
    "import numpy as np\n",
    "# Load an image using PIL\n",
    "image_path = '/content/Flower Color Images Dataset/flowers/flowers/19_010.png'\n",
    "original_image = Image.open(image_path)\n",
    "\n",
    "# Display the original image using matplotlib\n",
    "plt.imshow(original_image)"
   ],
   "metadata": {
    "collapsed": false
   }
  },
  {
   "cell_type": "code",
   "execution_count": null,
   "outputs": [],
   "source": [
    "from scipy.ndimage import rotate\n",
    "\n",
    "def rotate_image_30_degrees(image):\n",
    "    return rotate(image, angle=30, reshape=False, mode='nearest')"
   ],
   "metadata": {
    "collapsed": false
   }
  },
  {
   "cell_type": "code",
   "execution_count": null,
   "outputs": [],
   "source": [
    "import tensorflow as tf\n",
    "from tensorflow.keras.preprocessing.image import ImageDataGenerator, img_to_array, load_img\n",
    "import matplotlib.pyplot as plt\n",
    "from PIL import Image\n",
    "import numpy as np\n",
    "from scipy.ndimage import rotate\n",
    "\n",
    "# Load an image using PIL\n",
    "image_path = '/content/Flower Color Images Dataset/flowers/flowers/19_010.png'\n",
    "# original_image = Image.open(image_path)\n",
    "original_image = load_img(image_path)\n",
    "\n",
    "# Display the original image using matplotlib\n",
    "# plt.imshow(original_image)\n",
    "# plt.imshow(rotate(original_image, angle=90, reshape=False, mode='nearest'))\n",
    "flipped_image = np.fliplr(original_image)\n",
    "mirror_image = np.flipud(original_image)\n",
    "plt.imshow(mirror_image)\n",
    "plt.axis('off')\n",
    "plt.show()"
   ],
   "metadata": {
    "collapsed": false
   }
  }
 ],
 "metadata": {
  "kernelspec": {
   "display_name": "Python 3",
   "language": "python",
   "name": "python3"
  },
  "language_info": {
   "codemirror_mode": {
    "name": "ipython",
    "version": 2
   },
   "file_extension": ".py",
   "mimetype": "text/x-python",
   "name": "python",
   "nbconvert_exporter": "python",
   "pygments_lexer": "ipython2",
   "version": "2.7.6"
  }
 },
 "nbformat": 4,
 "nbformat_minor": 0
}

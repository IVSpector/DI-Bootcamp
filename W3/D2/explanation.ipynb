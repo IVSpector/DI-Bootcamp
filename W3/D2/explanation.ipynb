{
 "cells": [
  {
   "cell_type": "code",
   "execution_count": 1,
   "metadata": {
    "collapsed": true,
    "ExecuteTime": {
     "end_time": "2025-05-26T07:37:53.934344100Z",
     "start_time": "2025-05-26T07:37:53.324789800Z"
    }
   },
   "outputs": [],
   "source": [
    "import pandas as pd\n",
    "json_data = pd.read_json('posts.json')"
   ]
  },
  {
   "cell_type": "code",
   "execution_count": 2,
   "outputs": [
    {
     "data": {
      "text/plain": "0     sunt aut facere repellat provident occaecati e...\n1                                          qui est esse\n2     ea molestias quasi exercitationem repellat qui...\n3                                  eum et est occaecati\n4                                    nesciunt quas odio\n                            ...                        \n95    quaerat velit veniam amet cupiditate aut numqu...\n96           quas fugiat ut perspiciatis vero provident\n97                          laboriosam dolor voluptates\n98    temporibus sit alias delectus eligendi possimu...\n99                at nam consequatur ea labore ea harum\nName: title, Length: 100, dtype: object"
     },
     "execution_count": 2,
     "metadata": {},
     "output_type": "execute_result"
    }
   ],
   "source": [
    "json_data['title']"
   ],
   "metadata": {
    "collapsed": false,
    "ExecuteTime": {
     "end_time": "2025-05-26T07:38:09.702504300Z",
     "start_time": "2025-05-26T07:38:09.688535400Z"
    }
   }
  },
  {
   "cell_type": "code",
   "execution_count": 19,
   "outputs": [
    {
     "ename": "OptionError",
     "evalue": "No such keys(s): 'io.excel.zip.reader'",
     "output_type": "error",
     "traceback": [
      "\u001B[31m---------------------------------------------------------------------------\u001B[39m",
      "\u001B[31mOptionError\u001B[39m                               Traceback (most recent call last)",
      "\u001B[36mCell\u001B[39m\u001B[36m \u001B[39m\u001B[32mIn[19]\u001B[39m\u001B[32m, line 2\u001B[39m\n\u001B[32m      1\u001B[39m \u001B[38;5;28;01mimport\u001B[39;00m \u001B[34;01mpandas\u001B[39;00m \u001B[38;5;28;01mas\u001B[39;00m \u001B[34;01mpd\u001B[39;00m\n\u001B[32m----> \u001B[39m\u001B[32m2\u001B[39m excel_data = \u001B[43mpd\u001B[49m\u001B[43m.\u001B[49m\u001B[43mread_excel\u001B[49m\u001B[43m(\u001B[49m\u001B[33;43m'\u001B[39;49m\u001B[33;43msample_data.xls\u001B[39;49m\u001B[33;43m'\u001B[39;49m\u001B[43m,\u001B[49m\u001B[43m \u001B[49m\u001B[43mindex_col\u001B[49m\u001B[43m=\u001B[49m\u001B[32;43m0\u001B[39;49m\u001B[43m)\u001B[49m\n\u001B[32m      3\u001B[39m \u001B[38;5;28mprint\u001B[39m(excel_data.head())\n",
      "\u001B[36mFile \u001B[39m\u001B[32m~\\AppData\\Local\\Programs\\Python\\Python311\\Lib\\site-packages\\pandas\\io\\excel\\_base.py:495\u001B[39m, in \u001B[36mread_excel\u001B[39m\u001B[34m(io, sheet_name, header, names, index_col, usecols, dtype, engine, converters, true_values, false_values, skiprows, nrows, na_values, keep_default_na, na_filter, verbose, parse_dates, date_parser, date_format, thousands, decimal, comment, skipfooter, storage_options, dtype_backend, engine_kwargs)\u001B[39m\n\u001B[32m    493\u001B[39m \u001B[38;5;28;01mif\u001B[39;00m \u001B[38;5;129;01mnot\u001B[39;00m \u001B[38;5;28misinstance\u001B[39m(io, ExcelFile):\n\u001B[32m    494\u001B[39m     should_close = \u001B[38;5;28;01mTrue\u001B[39;00m\n\u001B[32m--> \u001B[39m\u001B[32m495\u001B[39m     io = \u001B[43mExcelFile\u001B[49m\u001B[43m(\u001B[49m\n\u001B[32m    496\u001B[39m \u001B[43m        \u001B[49m\u001B[43mio\u001B[49m\u001B[43m,\u001B[49m\n\u001B[32m    497\u001B[39m \u001B[43m        \u001B[49m\u001B[43mstorage_options\u001B[49m\u001B[43m=\u001B[49m\u001B[43mstorage_options\u001B[49m\u001B[43m,\u001B[49m\n\u001B[32m    498\u001B[39m \u001B[43m        \u001B[49m\u001B[43mengine\u001B[49m\u001B[43m=\u001B[49m\u001B[43mengine\u001B[49m\u001B[43m,\u001B[49m\n\u001B[32m    499\u001B[39m \u001B[43m        \u001B[49m\u001B[43mengine_kwargs\u001B[49m\u001B[43m=\u001B[49m\u001B[43mengine_kwargs\u001B[49m\u001B[43m,\u001B[49m\n\u001B[32m    500\u001B[39m \u001B[43m    \u001B[49m\u001B[43m)\u001B[49m\n\u001B[32m    501\u001B[39m \u001B[38;5;28;01melif\u001B[39;00m engine \u001B[38;5;129;01mand\u001B[39;00m engine != io.engine:\n\u001B[32m    502\u001B[39m     \u001B[38;5;28;01mraise\u001B[39;00m \u001B[38;5;167;01mValueError\u001B[39;00m(\n\u001B[32m    503\u001B[39m         \u001B[33m\"\u001B[39m\u001B[33mEngine should not be specified when passing \u001B[39m\u001B[33m\"\u001B[39m\n\u001B[32m    504\u001B[39m         \u001B[33m\"\u001B[39m\u001B[33man ExcelFile - ExcelFile already has the engine set\u001B[39m\u001B[33m\"\u001B[39m\n\u001B[32m    505\u001B[39m     )\n",
      "\u001B[36mFile \u001B[39m\u001B[32m~\\AppData\\Local\\Programs\\Python\\Python311\\Lib\\site-packages\\pandas\\io\\excel\\_base.py:1559\u001B[39m, in \u001B[36mExcelFile.__init__\u001B[39m\u001B[34m(self, path_or_buffer, engine, storage_options, engine_kwargs)\u001B[39m\n\u001B[32m   1553\u001B[39m     \u001B[38;5;28;01mif\u001B[39;00m ext \u001B[38;5;129;01mis\u001B[39;00m \u001B[38;5;28;01mNone\u001B[39;00m:\n\u001B[32m   1554\u001B[39m         \u001B[38;5;28;01mraise\u001B[39;00m \u001B[38;5;167;01mValueError\u001B[39;00m(\n\u001B[32m   1555\u001B[39m             \u001B[33m\"\u001B[39m\u001B[33mExcel file format cannot be determined, you must specify \u001B[39m\u001B[33m\"\u001B[39m\n\u001B[32m   1556\u001B[39m             \u001B[33m\"\u001B[39m\u001B[33man engine manually.\u001B[39m\u001B[33m\"\u001B[39m\n\u001B[32m   1557\u001B[39m         )\n\u001B[32m-> \u001B[39m\u001B[32m1559\u001B[39m engine = \u001B[43mconfig\u001B[49m\u001B[43m.\u001B[49m\u001B[43mget_option\u001B[49m\u001B[43m(\u001B[49m\u001B[33;43mf\u001B[39;49m\u001B[33;43m\"\u001B[39;49m\u001B[33;43mio.excel.\u001B[39;49m\u001B[38;5;132;43;01m{\u001B[39;49;00m\u001B[43mext\u001B[49m\u001B[38;5;132;43;01m}\u001B[39;49;00m\u001B[33;43m.reader\u001B[39;49m\u001B[33;43m\"\u001B[39;49m\u001B[43m,\u001B[49m\u001B[43m \u001B[49m\u001B[43msilent\u001B[49m\u001B[43m=\u001B[49m\u001B[38;5;28;43;01mTrue\u001B[39;49;00m\u001B[43m)\u001B[49m\n\u001B[32m   1560\u001B[39m \u001B[38;5;28;01mif\u001B[39;00m engine == \u001B[33m\"\u001B[39m\u001B[33mauto\u001B[39m\u001B[33m\"\u001B[39m:\n\u001B[32m   1561\u001B[39m     engine = get_default_engine(ext, mode=\u001B[33m\"\u001B[39m\u001B[33mreader\u001B[39m\u001B[33m\"\u001B[39m)\n",
      "\u001B[36mFile \u001B[39m\u001B[32m~\\AppData\\Local\\Programs\\Python\\Python311\\Lib\\site-packages\\pandas\\_config\\config.py:274\u001B[39m, in \u001B[36mCallableDynamicDoc.__call__\u001B[39m\u001B[34m(self, *args, **kwds)\u001B[39m\n\u001B[32m    273\u001B[39m \u001B[38;5;28;01mdef\u001B[39;00m \u001B[34m__call__\u001B[39m(\u001B[38;5;28mself\u001B[39m, *args, **kwds) -> T:\n\u001B[32m--> \u001B[39m\u001B[32m274\u001B[39m     \u001B[38;5;28;01mreturn\u001B[39;00m \u001B[38;5;28;43mself\u001B[39;49m\u001B[43m.\u001B[49m\u001B[34;43m__func__\u001B[39;49m\u001B[43m(\u001B[49m\u001B[43m*\u001B[49m\u001B[43margs\u001B[49m\u001B[43m,\u001B[49m\u001B[43m \u001B[49m\u001B[43m*\u001B[49m\u001B[43m*\u001B[49m\u001B[43mkwds\u001B[49m\u001B[43m)\u001B[49m\n",
      "\u001B[36mFile \u001B[39m\u001B[32m~\\AppData\\Local\\Programs\\Python\\Python311\\Lib\\site-packages\\pandas\\_config\\config.py:146\u001B[39m, in \u001B[36m_get_option\u001B[39m\u001B[34m(pat, silent)\u001B[39m\n\u001B[32m    145\u001B[39m \u001B[38;5;28;01mdef\u001B[39;00m \u001B[34m_get_option\u001B[39m(pat: \u001B[38;5;28mstr\u001B[39m, silent: \u001B[38;5;28mbool\u001B[39m = \u001B[38;5;28;01mFalse\u001B[39;00m) -> Any:\n\u001B[32m--> \u001B[39m\u001B[32m146\u001B[39m     key = \u001B[43m_get_single_key\u001B[49m\u001B[43m(\u001B[49m\u001B[43mpat\u001B[49m\u001B[43m,\u001B[49m\u001B[43m \u001B[49m\u001B[43msilent\u001B[49m\u001B[43m)\u001B[49m\n\u001B[32m    148\u001B[39m     \u001B[38;5;66;03m# walk the nested dict\u001B[39;00m\n\u001B[32m    149\u001B[39m     root, k = _get_root(key)\n",
      "\u001B[36mFile \u001B[39m\u001B[32m~\\AppData\\Local\\Programs\\Python\\Python311\\Lib\\site-packages\\pandas\\_config\\config.py:132\u001B[39m, in \u001B[36m_get_single_key\u001B[39m\u001B[34m(pat, silent)\u001B[39m\n\u001B[32m    130\u001B[39m     \u001B[38;5;28;01mif\u001B[39;00m \u001B[38;5;129;01mnot\u001B[39;00m silent:\n\u001B[32m    131\u001B[39m         _warn_if_deprecated(pat)\n\u001B[32m--> \u001B[39m\u001B[32m132\u001B[39m     \u001B[38;5;28;01mraise\u001B[39;00m OptionError(\u001B[33mf\u001B[39m\u001B[33m\"\u001B[39m\u001B[33mNo such keys(s): \u001B[39m\u001B[38;5;132;01m{\u001B[39;00m\u001B[38;5;28mrepr\u001B[39m(pat)\u001B[38;5;132;01m}\u001B[39;00m\u001B[33m\"\u001B[39m)\n\u001B[32m    133\u001B[39m \u001B[38;5;28;01mif\u001B[39;00m \u001B[38;5;28mlen\u001B[39m(keys) > \u001B[32m1\u001B[39m:\n\u001B[32m    134\u001B[39m     \u001B[38;5;28;01mraise\u001B[39;00m OptionError(\u001B[33m\"\u001B[39m\u001B[33mPattern matched multiple keys\u001B[39m\u001B[33m\"\u001B[39m)\n",
      "\u001B[31mOptionError\u001B[39m: No such keys(s): 'io.excel.zip.reader'"
     ]
    }
   ],
   "source": [
    "import pandas as pd\n",
    "excel_data = pd.read_excel('sample_data.xls', index_col=0)\n",
    "print(excel_data.head())\n"
   ],
   "metadata": {
    "collapsed": false,
    "ExecuteTime": {
     "end_time": "2025-05-26T08:52:50.090437500Z",
     "start_time": "2025-05-26T08:52:49.977509900Z"
    }
   }
  },
  {
   "cell_type": "code",
   "execution_count": 14,
   "outputs": [
    {
     "name": "stdout",
     "output_type": "stream",
     "text": [
      "   0 First Name  Last Name  Gender        Country  Age        Date    Id\n",
      "0  1      Dulce      Abril  Female  United States   32  15/10/2017  1562\n",
      "1  2       Mara  Hashimoto  Female  Great Britain   25  16/08/2016  1582\n",
      "2  3     Philip       Gent    Male         France   36  21/05/2015  2587\n",
      "3  4   Kathleen     Hanner  Female  United States   25  15/10/2017  3549\n",
      "4  5    Nereida    Magwood  Female  United States   58  16/08/2016  2468\n",
      "5  6     Gaston      Brumm    Male  United States   24  21/05/2015  2554\n",
      "6  7       Etta       Hurn  Female  Great Britain   56  15/10/2017  3598\n",
      "7  8    Earlean     Melgar  Female  United States   27  16/08/2016  2456\n",
      "8  9   Vincenza    Weiland  Female  United States   40  21/05/2015  6548\n"
     ]
    }
   ],
   "source": [
    "import pandas as pd\n",
    "df = pd.read_excel('file_example_XLS_10(5).xls', engine='xlrd')\n",
    "print(df)"
   ],
   "metadata": {
    "collapsed": false,
    "ExecuteTime": {
     "end_time": "2025-05-26T08:29:24.868123200Z",
     "start_time": "2025-05-26T08:29:24.831942600Z"
    }
   }
  },
  {
   "cell_type": "code",
   "execution_count": 16,
   "outputs": [
    {
     "ename": "KeyError",
     "evalue": "\"There is no item named '[Content_Types].xml' in the archive\"",
     "output_type": "error",
     "traceback": [
      "\u001B[31m---------------------------------------------------------------------------\u001B[39m",
      "\u001B[31mKeyError\u001B[39m                                  Traceback (most recent call last)",
      "\u001B[36mCell\u001B[39m\u001B[36m \u001B[39m\u001B[32mIn[16]\u001B[39m\u001B[32m, line 2\u001B[39m\n\u001B[32m      1\u001B[39m \u001B[38;5;28;01mimport\u001B[39;00m \u001B[34;01mpandas\u001B[39;00m \u001B[38;5;28;01mas\u001B[39;00m \u001B[34;01mpd\u001B[39;00m\n\u001B[32m----> \u001B[39m\u001B[32m2\u001B[39m df = \u001B[43mpd\u001B[49m\u001B[43m.\u001B[49m\u001B[43mread_excel\u001B[49m\u001B[43m(\u001B[49m\u001B[33;43m'\u001B[39;49m\u001B[33;43msample_data.xls\u001B[39;49m\u001B[33;43m'\u001B[39;49m\u001B[43m,\u001B[49m\u001B[43m \u001B[49m\u001B[43mengine\u001B[49m\u001B[43m=\u001B[49m\u001B[33;43m'\u001B[39;49m\u001B[33;43mopenpyxl\u001B[39;49m\u001B[33;43m'\u001B[39;49m\u001B[43m)\u001B[49m  \n\u001B[32m      3\u001B[39m \u001B[38;5;28mprint\u001B[39m(df.head())\n",
      "\u001B[36mFile \u001B[39m\u001B[32m~\\AppData\\Local\\Programs\\Python\\Python311\\Lib\\site-packages\\pandas\\io\\excel\\_base.py:495\u001B[39m, in \u001B[36mread_excel\u001B[39m\u001B[34m(io, sheet_name, header, names, index_col, usecols, dtype, engine, converters, true_values, false_values, skiprows, nrows, na_values, keep_default_na, na_filter, verbose, parse_dates, date_parser, date_format, thousands, decimal, comment, skipfooter, storage_options, dtype_backend, engine_kwargs)\u001B[39m\n\u001B[32m    493\u001B[39m \u001B[38;5;28;01mif\u001B[39;00m \u001B[38;5;129;01mnot\u001B[39;00m \u001B[38;5;28misinstance\u001B[39m(io, ExcelFile):\n\u001B[32m    494\u001B[39m     should_close = \u001B[38;5;28;01mTrue\u001B[39;00m\n\u001B[32m--> \u001B[39m\u001B[32m495\u001B[39m     io = \u001B[43mExcelFile\u001B[49m\u001B[43m(\u001B[49m\n\u001B[32m    496\u001B[39m \u001B[43m        \u001B[49m\u001B[43mio\u001B[49m\u001B[43m,\u001B[49m\n\u001B[32m    497\u001B[39m \u001B[43m        \u001B[49m\u001B[43mstorage_options\u001B[49m\u001B[43m=\u001B[49m\u001B[43mstorage_options\u001B[49m\u001B[43m,\u001B[49m\n\u001B[32m    498\u001B[39m \u001B[43m        \u001B[49m\u001B[43mengine\u001B[49m\u001B[43m=\u001B[49m\u001B[43mengine\u001B[49m\u001B[43m,\u001B[49m\n\u001B[32m    499\u001B[39m \u001B[43m        \u001B[49m\u001B[43mengine_kwargs\u001B[49m\u001B[43m=\u001B[49m\u001B[43mengine_kwargs\u001B[49m\u001B[43m,\u001B[49m\n\u001B[32m    500\u001B[39m \u001B[43m    \u001B[49m\u001B[43m)\u001B[49m\n\u001B[32m    501\u001B[39m \u001B[38;5;28;01melif\u001B[39;00m engine \u001B[38;5;129;01mand\u001B[39;00m engine != io.engine:\n\u001B[32m    502\u001B[39m     \u001B[38;5;28;01mraise\u001B[39;00m \u001B[38;5;167;01mValueError\u001B[39;00m(\n\u001B[32m    503\u001B[39m         \u001B[33m\"\u001B[39m\u001B[33mEngine should not be specified when passing \u001B[39m\u001B[33m\"\u001B[39m\n\u001B[32m    504\u001B[39m         \u001B[33m\"\u001B[39m\u001B[33man ExcelFile - ExcelFile already has the engine set\u001B[39m\u001B[33m\"\u001B[39m\n\u001B[32m    505\u001B[39m     )\n",
      "\u001B[36mFile \u001B[39m\u001B[32m~\\AppData\\Local\\Programs\\Python\\Python311\\Lib\\site-packages\\pandas\\io\\excel\\_base.py:1567\u001B[39m, in \u001B[36mExcelFile.__init__\u001B[39m\u001B[34m(self, path_or_buffer, engine, storage_options, engine_kwargs)\u001B[39m\n\u001B[32m   1564\u001B[39m \u001B[38;5;28mself\u001B[39m.engine = engine\n\u001B[32m   1565\u001B[39m \u001B[38;5;28mself\u001B[39m.storage_options = storage_options\n\u001B[32m-> \u001B[39m\u001B[32m1567\u001B[39m \u001B[38;5;28mself\u001B[39m._reader = \u001B[38;5;28;43mself\u001B[39;49m\u001B[43m.\u001B[49m\u001B[43m_engines\u001B[49m\u001B[43m[\u001B[49m\u001B[43mengine\u001B[49m\u001B[43m]\u001B[49m\u001B[43m(\u001B[49m\n\u001B[32m   1568\u001B[39m \u001B[43m    \u001B[49m\u001B[38;5;28;43mself\u001B[39;49m\u001B[43m.\u001B[49m\u001B[43m_io\u001B[49m\u001B[43m,\u001B[49m\n\u001B[32m   1569\u001B[39m \u001B[43m    \u001B[49m\u001B[43mstorage_options\u001B[49m\u001B[43m=\u001B[49m\u001B[43mstorage_options\u001B[49m\u001B[43m,\u001B[49m\n\u001B[32m   1570\u001B[39m \u001B[43m    \u001B[49m\u001B[43mengine_kwargs\u001B[49m\u001B[43m=\u001B[49m\u001B[43mengine_kwargs\u001B[49m\u001B[43m,\u001B[49m\n\u001B[32m   1571\u001B[39m \u001B[43m\u001B[49m\u001B[43m)\u001B[49m\n",
      "\u001B[36mFile \u001B[39m\u001B[32m~\\AppData\\Local\\Programs\\Python\\Python311\\Lib\\site-packages\\pandas\\io\\excel\\_openpyxl.py:553\u001B[39m, in \u001B[36mOpenpyxlReader.__init__\u001B[39m\u001B[34m(self, filepath_or_buffer, storage_options, engine_kwargs)\u001B[39m\n\u001B[32m    541\u001B[39m \u001B[38;5;250m\u001B[39m\u001B[33;03m\"\"\"\u001B[39;00m\n\u001B[32m    542\u001B[39m \u001B[33;03mReader using openpyxl engine.\u001B[39;00m\n\u001B[32m    543\u001B[39m \n\u001B[32m   (...)\u001B[39m\u001B[32m    550\u001B[39m \u001B[33;03m    Arbitrary keyword arguments passed to excel engine.\u001B[39;00m\n\u001B[32m    551\u001B[39m \u001B[33;03m\"\"\"\u001B[39;00m\n\u001B[32m    552\u001B[39m import_optional_dependency(\u001B[33m\"\u001B[39m\u001B[33mopenpyxl\u001B[39m\u001B[33m\"\u001B[39m)\n\u001B[32m--> \u001B[39m\u001B[32m553\u001B[39m \u001B[38;5;28;43msuper\u001B[39;49m\u001B[43m(\u001B[49m\u001B[43m)\u001B[49m\u001B[43m.\u001B[49m\u001B[34;43m__init__\u001B[39;49m\u001B[43m(\u001B[49m\n\u001B[32m    554\u001B[39m \u001B[43m    \u001B[49m\u001B[43mfilepath_or_buffer\u001B[49m\u001B[43m,\u001B[49m\n\u001B[32m    555\u001B[39m \u001B[43m    \u001B[49m\u001B[43mstorage_options\u001B[49m\u001B[43m=\u001B[49m\u001B[43mstorage_options\u001B[49m\u001B[43m,\u001B[49m\n\u001B[32m    556\u001B[39m \u001B[43m    \u001B[49m\u001B[43mengine_kwargs\u001B[49m\u001B[43m=\u001B[49m\u001B[43mengine_kwargs\u001B[49m\u001B[43m,\u001B[49m\n\u001B[32m    557\u001B[39m \u001B[43m\u001B[49m\u001B[43m)\u001B[49m\n",
      "\u001B[36mFile \u001B[39m\u001B[32m~\\AppData\\Local\\Programs\\Python\\Python311\\Lib\\site-packages\\pandas\\io\\excel\\_base.py:573\u001B[39m, in \u001B[36mBaseExcelReader.__init__\u001B[39m\u001B[34m(self, filepath_or_buffer, storage_options, engine_kwargs)\u001B[39m\n\u001B[32m    571\u001B[39m \u001B[38;5;28mself\u001B[39m.handles.handle.seek(\u001B[32m0\u001B[39m)\n\u001B[32m    572\u001B[39m \u001B[38;5;28;01mtry\u001B[39;00m:\n\u001B[32m--> \u001B[39m\u001B[32m573\u001B[39m     \u001B[38;5;28mself\u001B[39m.book = \u001B[38;5;28;43mself\u001B[39;49m\u001B[43m.\u001B[49m\u001B[43mload_workbook\u001B[49m\u001B[43m(\u001B[49m\u001B[38;5;28;43mself\u001B[39;49m\u001B[43m.\u001B[49m\u001B[43mhandles\u001B[49m\u001B[43m.\u001B[49m\u001B[43mhandle\u001B[49m\u001B[43m,\u001B[49m\u001B[43m \u001B[49m\u001B[43mengine_kwargs\u001B[49m\u001B[43m)\u001B[49m\n\u001B[32m    574\u001B[39m \u001B[38;5;28;01mexcept\u001B[39;00m \u001B[38;5;167;01mException\u001B[39;00m:\n\u001B[32m    575\u001B[39m     \u001B[38;5;28mself\u001B[39m.close()\n",
      "\u001B[36mFile \u001B[39m\u001B[32m~\\AppData\\Local\\Programs\\Python\\Python311\\Lib\\site-packages\\pandas\\io\\excel\\_openpyxl.py:572\u001B[39m, in \u001B[36mOpenpyxlReader.load_workbook\u001B[39m\u001B[34m(self, filepath_or_buffer, engine_kwargs)\u001B[39m\n\u001B[32m    568\u001B[39m \u001B[38;5;28;01mfrom\u001B[39;00m \u001B[34;01mopenpyxl\u001B[39;00m \u001B[38;5;28;01mimport\u001B[39;00m load_workbook\n\u001B[32m    570\u001B[39m default_kwargs = {\u001B[33m\"\u001B[39m\u001B[33mread_only\u001B[39m\u001B[33m\"\u001B[39m: \u001B[38;5;28;01mTrue\u001B[39;00m, \u001B[33m\"\u001B[39m\u001B[33mdata_only\u001B[39m\u001B[33m\"\u001B[39m: \u001B[38;5;28;01mTrue\u001B[39;00m, \u001B[33m\"\u001B[39m\u001B[33mkeep_links\u001B[39m\u001B[33m\"\u001B[39m: \u001B[38;5;28;01mFalse\u001B[39;00m}\n\u001B[32m--> \u001B[39m\u001B[32m572\u001B[39m \u001B[38;5;28;01mreturn\u001B[39;00m \u001B[43mload_workbook\u001B[49m\u001B[43m(\u001B[49m\n\u001B[32m    573\u001B[39m \u001B[43m    \u001B[49m\u001B[43mfilepath_or_buffer\u001B[49m\u001B[43m,\u001B[49m\n\u001B[32m    574\u001B[39m \u001B[43m    \u001B[49m\u001B[43m*\u001B[49m\u001B[43m*\u001B[49m\u001B[43m(\u001B[49m\u001B[43mdefault_kwargs\u001B[49m\u001B[43m \u001B[49m\u001B[43m|\u001B[49m\u001B[43m \u001B[49m\u001B[43mengine_kwargs\u001B[49m\u001B[43m)\u001B[49m\u001B[43m,\u001B[49m\n\u001B[32m    575\u001B[39m \u001B[43m\u001B[49m\u001B[43m)\u001B[49m\n",
      "\u001B[36mFile \u001B[39m\u001B[32m~\\AppData\\Local\\Programs\\Python\\Python311\\Lib\\site-packages\\openpyxl\\reader\\excel.py:348\u001B[39m, in \u001B[36mload_workbook\u001B[39m\u001B[34m(filename, read_only, keep_vba, data_only, keep_links, rich_text)\u001B[39m\n\u001B[32m    318\u001B[39m \u001B[38;5;250m\u001B[39m\u001B[33;03m\"\"\"Open the given filename and return the workbook\u001B[39;00m\n\u001B[32m    319\u001B[39m \n\u001B[32m    320\u001B[39m \u001B[33;03m:param filename: the path to open or a file-like object\u001B[39;00m\n\u001B[32m   (...)\u001B[39m\u001B[32m    344\u001B[39m \n\u001B[32m    345\u001B[39m \u001B[33;03m\"\"\"\u001B[39;00m\n\u001B[32m    346\u001B[39m reader = ExcelReader(filename, read_only, keep_vba,\n\u001B[32m    347\u001B[39m                      data_only, keep_links, rich_text)\n\u001B[32m--> \u001B[39m\u001B[32m348\u001B[39m \u001B[43mreader\u001B[49m\u001B[43m.\u001B[49m\u001B[43mread\u001B[49m\u001B[43m(\u001B[49m\u001B[43m)\u001B[49m\n\u001B[32m    349\u001B[39m \u001B[38;5;28;01mreturn\u001B[39;00m reader.wb\n",
      "\u001B[36mFile \u001B[39m\u001B[32m~\\AppData\\Local\\Programs\\Python\\Python311\\Lib\\site-packages\\openpyxl\\reader\\excel.py:289\u001B[39m, in \u001B[36mExcelReader.read\u001B[39m\u001B[34m(self)\u001B[39m\n\u001B[32m    287\u001B[39m action = \u001B[33m\"\u001B[39m\u001B[33mread manifest\u001B[39m\u001B[33m\"\u001B[39m\n\u001B[32m    288\u001B[39m \u001B[38;5;28;01mtry\u001B[39;00m:\n\u001B[32m--> \u001B[39m\u001B[32m289\u001B[39m     \u001B[38;5;28;43mself\u001B[39;49m\u001B[43m.\u001B[49m\u001B[43mread_manifest\u001B[49m\u001B[43m(\u001B[49m\u001B[43m)\u001B[49m\n\u001B[32m    290\u001B[39m     action = \u001B[33m\"\u001B[39m\u001B[33mread strings\u001B[39m\u001B[33m\"\u001B[39m\n\u001B[32m    291\u001B[39m     \u001B[38;5;28mself\u001B[39m.read_strings()\n",
      "\u001B[36mFile \u001B[39m\u001B[32m~\\AppData\\Local\\Programs\\Python\\Python311\\Lib\\site-packages\\openpyxl\\reader\\excel.py:134\u001B[39m, in \u001B[36mExcelReader.read_manifest\u001B[39m\u001B[34m(self)\u001B[39m\n\u001B[32m    133\u001B[39m \u001B[38;5;28;01mdef\u001B[39;00m \u001B[34mread_manifest\u001B[39m(\u001B[38;5;28mself\u001B[39m):\n\u001B[32m--> \u001B[39m\u001B[32m134\u001B[39m     src = \u001B[38;5;28;43mself\u001B[39;49m\u001B[43m.\u001B[49m\u001B[43marchive\u001B[49m\u001B[43m.\u001B[49m\u001B[43mread\u001B[49m\u001B[43m(\u001B[49m\u001B[43mARC_CONTENT_TYPES\u001B[49m\u001B[43m)\u001B[49m\n\u001B[32m    135\u001B[39m     root = fromstring(src)\n\u001B[32m    136\u001B[39m     \u001B[38;5;28mself\u001B[39m.package = Manifest.from_tree(root)\n",
      "\u001B[36mFile \u001B[39m\u001B[32m~\\AppData\\Local\\Programs\\Python\\Python311\\Lib\\zipfile.py:1510\u001B[39m, in \u001B[36mZipFile.read\u001B[39m\u001B[34m(self, name, pwd)\u001B[39m\n\u001B[32m   1508\u001B[39m \u001B[38;5;28;01mdef\u001B[39;00m \u001B[34mread\u001B[39m(\u001B[38;5;28mself\u001B[39m, name, pwd=\u001B[38;5;28;01mNone\u001B[39;00m):\n\u001B[32m   1509\u001B[39m \u001B[38;5;250m    \u001B[39m\u001B[33;03m\"\"\"Return file bytes for name.\"\"\"\u001B[39;00m\n\u001B[32m-> \u001B[39m\u001B[32m1510\u001B[39m     \u001B[38;5;28;01mwith\u001B[39;00m \u001B[38;5;28;43mself\u001B[39;49m\u001B[43m.\u001B[49m\u001B[43mopen\u001B[49m\u001B[43m(\u001B[49m\u001B[43mname\u001B[49m\u001B[43m,\u001B[49m\u001B[43m \u001B[49m\u001B[33;43m\"\u001B[39;49m\u001B[33;43mr\u001B[39;49m\u001B[33;43m\"\u001B[39;49m\u001B[43m,\u001B[49m\u001B[43m \u001B[49m\u001B[43mpwd\u001B[49m\u001B[43m)\u001B[49m \u001B[38;5;28;01mas\u001B[39;00m fp:\n\u001B[32m   1511\u001B[39m         \u001B[38;5;28;01mreturn\u001B[39;00m fp.read()\n",
      "\u001B[36mFile \u001B[39m\u001B[32m~\\AppData\\Local\\Programs\\Python\\Python311\\Lib\\zipfile.py:1547\u001B[39m, in \u001B[36mZipFile.open\u001B[39m\u001B[34m(self, name, mode, pwd, force_zip64)\u001B[39m\n\u001B[32m   1544\u001B[39m     zinfo._compresslevel = \u001B[38;5;28mself\u001B[39m.compresslevel\n\u001B[32m   1545\u001B[39m \u001B[38;5;28;01melse\u001B[39;00m:\n\u001B[32m   1546\u001B[39m     \u001B[38;5;66;03m# Get info object for name\u001B[39;00m\n\u001B[32m-> \u001B[39m\u001B[32m1547\u001B[39m     zinfo = \u001B[38;5;28;43mself\u001B[39;49m\u001B[43m.\u001B[49m\u001B[43mgetinfo\u001B[49m\u001B[43m(\u001B[49m\u001B[43mname\u001B[49m\u001B[43m)\u001B[49m\n\u001B[32m   1549\u001B[39m \u001B[38;5;28;01mif\u001B[39;00m mode == \u001B[33m'\u001B[39m\u001B[33mw\u001B[39m\u001B[33m'\u001B[39m:\n\u001B[32m   1550\u001B[39m     \u001B[38;5;28;01mreturn\u001B[39;00m \u001B[38;5;28mself\u001B[39m._open_to_write(zinfo, force_zip64=force_zip64)\n",
      "\u001B[36mFile \u001B[39m\u001B[32m~\\AppData\\Local\\Programs\\Python\\Python311\\Lib\\zipfile.py:1476\u001B[39m, in \u001B[36mZipFile.getinfo\u001B[39m\u001B[34m(self, name)\u001B[39m\n\u001B[32m   1474\u001B[39m info = \u001B[38;5;28mself\u001B[39m.NameToInfo.get(name)\n\u001B[32m   1475\u001B[39m \u001B[38;5;28;01mif\u001B[39;00m info \u001B[38;5;129;01mis\u001B[39;00m \u001B[38;5;28;01mNone\u001B[39;00m:\n\u001B[32m-> \u001B[39m\u001B[32m1476\u001B[39m     \u001B[38;5;28;01mraise\u001B[39;00m \u001B[38;5;167;01mKeyError\u001B[39;00m(\n\u001B[32m   1477\u001B[39m         \u001B[33m'\u001B[39m\u001B[33mThere is no item named \u001B[39m\u001B[38;5;132;01m%r\u001B[39;00m\u001B[33m in the archive\u001B[39m\u001B[33m'\u001B[39m % name)\n\u001B[32m   1479\u001B[39m \u001B[38;5;28;01mreturn\u001B[39;00m info\n",
      "\u001B[31mKeyError\u001B[39m: \"There is no item named '[Content_Types].xml' in the archive\""
     ]
    }
   ],
   "source": [
    "import pandas as pd\n",
    "df = pd.read_excel('sample_data.xls', engine='openpyxl')\n",
    "print(df.head())"
   ],
   "metadata": {
    "collapsed": false,
    "ExecuteTime": {
     "end_time": "2025-05-26T08:38:43.775371300Z",
     "start_time": "2025-05-26T08:38:42.638928200Z"
    }
   }
  },
  {
   "cell_type": "code",
   "execution_count": 20,
   "outputs": [
    {
     "data": {
      "text/plain": "(array([ 9., 10.,  9., 11.,  8.,  4., 19., 10.,  3., 17.]),\n array([ 1. , 10.8, 20.6, 30.4, 40.2, 50. , 59.8, 69.6, 79.4, 89.2, 99. ]),\n <BarContainer object of 10 artists>)"
     },
     "execution_count": 20,
     "metadata": {},
     "output_type": "execute_result"
    },
    {
     "data": {
      "text/plain": "<Figure size 640x480 with 1 Axes>",
      "image/png": "[encoded data removed]"
     },
     "metadata": {},
     "output_type": "display_data"
    }
   ],
   "source": [
    " import numpy as np\n",
    " import matplotlib.pyplot as plt\n",
    " plt.hist([np.random.randint(0, 100) for _ in range(100)])"
   ],
   "metadata": {
    "collapsed": false,
    "ExecuteTime": {
     "end_time": "2025-05-26T09:08:25.332784600Z",
     "start_time": "2025-05-26T09:08:23.862248900Z"
    }
   }
  },
  {
   "cell_type": "code",
   "execution_count": null,
   "outputs": [],
   "source": [
    "product = [fake.word() for _ in range(500)]\n",
    "sales_amount = [np.random.randint(10, 500) for _ in range(500)]\n",
    "date = [fake.date_this_year() for _ in range(500)]\n",
    "age =  [np.random.randint(18, 70) for _ in range(500)]\n",
    "\n",
    "df = pd.DataFrame(\n",
    "    zip(product, sales_amount, date, age),\n",
    "    columns = ['product', 'sales_amount', 'date', 'age']\n",
    ")\n",
    "\n",
    "import numpy as np\n",
    "from faker import Faker\n",
    "import pandas as pd\n",
    "\n",
    "\n",
    "fake = Faker()\n",
    "# Generating synthetic names and ages\n",
    "data = [(fake.name(), np.random.randint(18, 70)) for _ in range(100)]\n",
    "\n",
    "# Converting to a DataFrame\n",
    "\n",
    "df = pd.DataFrame(data, columns=['Name', 'Age'])\n",
    "print(df.head())"
   ],
   "metadata": {
    "collapsed": false
   }
  }
 ],
 "metadata": {
  "kernelspec": {
   "display_name": "Python 3",
   "language": "python",
   "name": "python3"
  },
  "language_info": {
   "codemirror_mode": {
    "name": "ipython",
    "version": 2
   },
   "file_extension": ".py",
   "mimetype": "text/x-python",
   "name": "python",
   "nbconvert_exporter": "python",
   "pygments_lexer": "ipython2",
   "version": "2.7.6"
  }
 },
 "nbformat": 4,
 "nbformat_minor": 0
}
